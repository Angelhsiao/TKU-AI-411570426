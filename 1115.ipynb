{
  "nbformat": 4,
  "nbformat_minor": 0,
  "metadata": {
    "colab": {
      "provenance": [],
      "authorship_tag": "ABX9TyMgaZ0rHGTlk48VappjQDt9",
      "include_colab_link": true
    },
    "kernelspec": {
      "name": "python3",
      "display_name": "Python 3"
    }
  },
  "cells": [
    {
      "cell_type": "markdown",
      "metadata": {
        "id": "view-in-github",
        "colab_type": "text"
      },
      "source": [
        "<a href=\"https://colab.research.google.com/github/Angelhsiao/TKU-AI-411570426/blob/main/1115.ipynb\" target=\"_parent\"><img src=\"https://colab.research.google.com/assets/colab-badge.svg\" alt=\"Open In Colab\"/></a>"
      ]
    },
    {
      "cell_type": "code",
      "source": [
        "print(\"Hi,python\")"
      ],
      "metadata": {
        "colab": {
          "base_uri": "https://localhost:8080/"
        },
        "id": "qj3dkByYx18h",
        "outputId": "a6ace812-0979-4068-9cb2-4d2a02a24cd6"
      },
      "execution_count": 7,
      "outputs": [
        {
          "output_type": "stream",
          "name": "stdout",
          "text": [
            "Hi,python\n"
          ]
        }
      ]
    },
    {
      "cell_type": "markdown",
      "source": [
        "今天是11月15日"
      ],
      "metadata": {
        "id": "pPkuF0zuwW9S"
      }
    },
    {
      "cell_type": "code",
      "source": [
        "print(\"Hi,python\")"
      ],
      "metadata": {
        "colab": {
          "base_uri": "https://localhost:8080/"
        },
        "id": "gUf1Rsadwhx3",
        "outputId": "43cc9c86-544e-4f9b-fe69-d4992356ebe7"
      },
      "execution_count": 4,
      "outputs": [
        {
          "output_type": "stream",
          "name": "stdout",
          "text": [
            "Hi,python\n"
          ]
        }
      ]
    },
    {
      "cell_type": "markdown",
      "source": [
        "今天是11月15日"
      ],
      "metadata": {
        "id": "RgH0ap83wnBA"
      }
    },
    {
      "cell_type": "code",
      "source": [
        "print(\"今天是11月15日\")"
      ],
      "metadata": {
        "colab": {
          "base_uri": "https://localhost:8080/"
        },
        "id": "J_ofe7B2wpnN",
        "outputId": "f04f8032-514c-447b-c5a0-b34e6db7ea17"
      },
      "execution_count": 5,
      "outputs": [
        {
          "output_type": "stream",
          "name": "stdout",
          "text": [
            "今天是11月15日\n"
          ]
        }
      ]
    },
    {
      "cell_type": "code",
      "source": [
        "print(\"蕭安捷,411570426\")"
      ],
      "metadata": {
        "colab": {
          "base_uri": "https://localhost:8080/"
        },
        "id": "AtoOFXoxxiBY",
        "outputId": "bd308766-fbc2-492e-9d5a-162640aab745"
      },
      "execution_count": 6,
      "outputs": [
        {
          "output_type": "stream",
          "name": "stdout",
          "text": [
            "蕭安捷,411570426\n"
          ]
        }
      ]
    }
  ]
}